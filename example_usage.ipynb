{
 "cells": [
  {
   "cell_type": "code",
   "execution_count": null,
   "metadata": {},
   "outputs": [],
   "source": [
    "!pip install geomltoolkits"
   ]
  },
  {
   "cell_type": "code",
   "execution_count": 1,
   "metadata": {},
   "outputs": [
    {
     "name": "stderr",
     "output_type": "stream",
     "text": [
      "/Users/krschap/hotosm/geoml-toolkits/src/geomltoolkits/regularizer/orthogonalize.py:36: FutureWarning: This function has no longer any effect, and will be removed in a future release. Starting with Shapely 2.0, equivalent speedups are always available\n",
      "  speedups.enable()\n"
     ]
    }
   ],
   "source": [
    "import os\n",
    "from geomltoolkits.downloader import tms as TMSDownloader\n",
    "from geomltoolkits.downloader import osm as OSMDownloader\n",
    "from geomltoolkits.regularizer import VectorizeMasks"
   ]
  },
  {
   "cell_type": "markdown",
   "metadata": {},
   "source": [
    "## Define area of interest to work on \n",
    "\n",
    "- Go to Open Aerial Map and then find TMS (Copy TMS Link)\n",
    "    For this example we are using this image : https://map.openaerialmap.org/#/85.52534580230713,27.63552012302292,14/square/12313122310120202/62d86c65d8499800053796c4?_k=okhkbl \n",
    "\n",
    "- Verify OSM is mapped properly in that area\n",
    "    Go to www.osm.org  , You can simply switch layer in OAM itself and see osm underneath \n",
    "    \n",
    "- Define area of interest where you want to generate training data \n",
    "    You can get your bbox from your geojson / area from here : https://kshitijrajsharma.github.io/geojson2bbox/ "
   ]
  },
  {
   "cell_type": "code",
   "execution_count": null,
   "metadata": {},
   "outputs": [],
   "source": [
    "# Default parameters\n",
    "ZOOM = 19\n",
    "WORK_DIR = \"banepa\"\n",
    "TMS = \"https://tiles.openaerialmap.org/62d85d11d8499800053796c1/0/62d85d11d8499800053796c2/{z}/{x}/{y}\"\n",
    "# AOI = \"input.geojson\"\n",
    "bbox = [85.51678033745037,27.6313353660439,85.52323021107895,27.637438390948745]\n",
    "\n",
    "# Ensure working directory\n",
    "os.makedirs(WORK_DIR, exist_ok=True)"
   ]
  },
  {
   "cell_type": "markdown",
   "metadata": {},
   "source": [
    "### Generate chips images for your area of interest"
   ]
  },
  {
   "cell_type": "code",
   "execution_count": 3,
   "metadata": {},
   "outputs": [
    {
     "name": "stdout",
     "output_type": "stream",
     "text": [
      "Total tiles fetched: 121\n",
      "Detected tile scheme: mapbox\n",
      "Warning: Requested zoom level 19 is outside the source's supported range (2-18)\n"
     ]
    },
    {
     "name": "stderr",
     "output_type": "stream",
     "text": [
      "  1%|          | 1/121 [00:00<00:14,  8.56tile/s]"
     ]
    },
    {
     "name": "stdout",
     "output_type": "stream",
     "text": [
      "https://b.tiles.mapbox.com/v4/mapbox.satellite/19/386686/220235@2x.jpg?access_token=pk.eyJ1Ijoib3BlbnN0cmVldG1hcCIsImEiOiJjbTAzeXd4aTQwMThrMmlzYjduN2hqemJ1In0.NQECJJIjiZXR0WcrDiq9PA\n",
      "https://c.tiles.mapbox.com/v4/mapbox.satellite/19/386686/220236@2x.jpg?access_token=pk.eyJ1Ijoib3BlbnN0cmVldG1hcCIsImEiOiJjbTAzeXd4aTQwMThrMmlzYjduN2hqemJ1In0.NQECJJIjiZXR0WcrDiq9PA\n",
      "https://d.tiles.mapbox.com/v4/mapbox.satellite/19/386686/220237@2x.jpg?access_token=pk.eyJ1Ijoib3BlbnN0cmVldG1hcCIsImEiOiJjbTAzeXd4aTQwMThrMmlzYjduN2hqemJ1In0.NQECJJIjiZXR0WcrDiq9PA\n",
      "https://a.tiles.mapbox.com/v4/mapbox.satellite/19/386686/220238@2x.jpg?access_token=pk.eyJ1Ijoib3BlbnN0cmVldG1hcCIsImEiOiJjbTAzeXd4aTQwMThrMmlzYjduN2hqemJ1In0.NQECJJIjiZXR0WcrDiq9PA\n",
      "https://b.tiles.mapbox.com/v4/mapbox.satellite/19/386686/220239@2x.jpg?access_token=pk.eyJ1Ijoib3BlbnN0cmVldG1hcCIsImEiOiJjbTAzeXd4aTQwMThrMmlzYjduN2hqemJ1In0.NQECJJIjiZXR0WcrDiq9PA\n",
      "https://c.tiles.mapbox.com/v4/mapbox.satellite/19/386686/220240@2x.jpg?access_token=pk.eyJ1Ijoib3BlbnN0cmVldG1hcCIsImEiOiJjbTAzeXd4aTQwMThrMmlzYjduN2hqemJ1In0.NQECJJIjiZXR0WcrDiq9PA\n",
      "https://d.tiles.mapbox.com/v4/mapbox.satellite/19/386686/220241@2x.jpg?access_token=pk.eyJ1Ijoib3BlbnN0cmVldG1hcCIsImEiOiJjbTAzeXd4aTQwMThrMmlzYjduN2hqemJ1In0.NQECJJIjiZXR0WcrDiq9PA\n",
      "https://a.tiles.mapbox.com/v4/mapbox.satellite/19/386686/220242@2x.jpg?access_token=pk.eyJ1Ijoib3BlbnN0cmVldG1hcCIsImEiOiJjbTAzeXd4aTQwMThrMmlzYjduN2hqemJ1In0.NQECJJIjiZXR0WcrDiq9PA\n",
      "https://b.tiles.mapbox.com/v4/mapbox.satellite/19/386686/220243@2x.jpg?access_token=pk.eyJ1Ijoib3BlbnN0cmVldG1hcCIsImEiOiJjbTAzeXd4aTQwMThrMmlzYjduN2hqemJ1In0.NQECJJIjiZXR0WcrDiq9PA\n",
      "https://c.tiles.mapbox.com/v4/mapbox.satellite/19/386686/220244@2x.jpg?access_token=pk.eyJ1Ijoib3BlbnN0cmVldG1hcCIsImEiOiJjbTAzeXd4aTQwMThrMmlzYjduN2hqemJ1In0.NQECJJIjiZXR0WcrDiq9PA\n",
      "https://d.tiles.mapbox.com/v4/mapbox.satellite/19/386686/220245@2x.jpg?access_token=pk.eyJ1Ijoib3BlbnN0cmVldG1hcCIsImEiOiJjbTAzeXd4aTQwMThrMmlzYjduN2hqemJ1In0.NQECJJIjiZXR0WcrDiq9PA\n",
      "https://c.tiles.mapbox.com/v4/mapbox.satellite/19/386687/220235@2x.jpg?access_token=pk.eyJ1Ijoib3BlbnN0cmVldG1hcCIsImEiOiJjbTAzeXd4aTQwMThrMmlzYjduN2hqemJ1In0.NQECJJIjiZXR0WcrDiq9PA\n",
      "https://d.tiles.mapbox.com/v4/mapbox.satellite/19/386687/220236@2x.jpg?access_token=pk.eyJ1Ijoib3BlbnN0cmVldG1hcCIsImEiOiJjbTAzeXd4aTQwMThrMmlzYjduN2hqemJ1In0.NQECJJIjiZXR0WcrDiq9PA\n",
      "https://a.tiles.mapbox.com/v4/mapbox.satellite/19/386687/220237@2x.jpg?access_token=pk.eyJ1Ijoib3BlbnN0cmVldG1hcCIsImEiOiJjbTAzeXd4aTQwMThrMmlzYjduN2hqemJ1In0.NQECJJIjiZXR0WcrDiq9PA\n",
      "https://b.tiles.mapbox.com/v4/mapbox.satellite/19/386687/220238@2x.jpg?access_token=pk.eyJ1Ijoib3BlbnN0cmVldG1hcCIsImEiOiJjbTAzeXd4aTQwMThrMmlzYjduN2hqemJ1In0.NQECJJIjiZXR0WcrDiq9PA\n",
      "https://c.tiles.mapbox.com/v4/mapbox.satellite/19/386687/220239@2x.jpg?access_token=pk.eyJ1Ijoib3BlbnN0cmVldG1hcCIsImEiOiJjbTAzeXd4aTQwMThrMmlzYjduN2hqemJ1In0.NQECJJIjiZXR0WcrDiq9PA\n",
      "https://d.tiles.mapbox.com/v4/mapbox.satellite/19/386687/220240@2x.jpg?access_token=pk.eyJ1Ijoib3BlbnN0cmVldG1hcCIsImEiOiJjbTAzeXd4aTQwMThrMmlzYjduN2hqemJ1In0.NQECJJIjiZXR0WcrDiq9PA\n",
      "https://a.tiles.mapbox.com/v4/mapbox.satellite/19/386687/220241@2x.jpg?access_token=pk.eyJ1Ijoib3BlbnN0cmVldG1hcCIsImEiOiJjbTAzeXd4aTQwMThrMmlzYjduN2hqemJ1In0.NQECJJIjiZXR0WcrDiq9PA\n",
      "https://b.tiles.mapbox.com/v4/mapbox.satellite/19/386687/220242@2x.jpg?access_token=pk.eyJ1Ijoib3BlbnN0cmVldG1hcCIsImEiOiJjbTAzeXd4aTQwMThrMmlzYjduN2hqemJ1In0.NQECJJIjiZXR0WcrDiq9PA\n",
      "https://c.tiles.mapbox.com/v4/mapbox.satellite/19/386687/220243@2x.jpg?access_token=pk.eyJ1Ijoib3BlbnN0cmVldG1hcCIsImEiOiJjbTAzeXd4aTQwMThrMmlzYjduN2hqemJ1In0.NQECJJIjiZXR0WcrDiq9PA\n",
      "https://d.tiles.mapbox.com/v4/mapbox.satellite/19/386687/220244@2x.jpg?access_token=pk.eyJ1Ijoib3BlbnN0cmVldG1hcCIsImEiOiJjbTAzeXd4aTQwMThrMmlzYjduN2hqemJ1In0.NQECJJIjiZXR0WcrDiq9PA\n",
      "https://a.tiles.mapbox.com/v4/mapbox.satellite/19/386687/220245@2x.jpg?access_token=pk.eyJ1Ijoib3BlbnN0cmVldG1hcCIsImEiOiJjbTAzeXd4aTQwMThrMmlzYjduN2hqemJ1In0.NQECJJIjiZXR0WcrDiq9PA\n",
      "https://d.tiles.mapbox.com/v4/mapbox.satellite/19/386688/220235@2x.jpg?access_token=pk.eyJ1Ijoib3BlbnN0cmVldG1hcCIsImEiOiJjbTAzeXd4aTQwMThrMmlzYjduN2hqemJ1In0.NQECJJIjiZXR0WcrDiq9PA\n",
      "https://a.tiles.mapbox.com/v4/mapbox.satellite/19/386688/220236@2x.jpg?access_token=pk.eyJ1Ijoib3BlbnN0cmVldG1hcCIsImEiOiJjbTAzeXd4aTQwMThrMmlzYjduN2hqemJ1In0.NQECJJIjiZXR0WcrDiq9PA\n",
      "https://b.tiles.mapbox.com/v4/mapbox.satellite/19/386688/220237@2x.jpg?access_token=pk.eyJ1Ijoib3BlbnN0cmVldG1hcCIsImEiOiJjbTAzeXd4aTQwMThrMmlzYjduN2hqemJ1In0.NQECJJIjiZXR0WcrDiq9PA\n",
      "https://c.tiles.mapbox.com/v4/mapbox.satellite/19/386688/220238@2x.jpg?access_token=pk.eyJ1Ijoib3BlbnN0cmVldG1hcCIsImEiOiJjbTAzeXd4aTQwMThrMmlzYjduN2hqemJ1In0.NQECJJIjiZXR0WcrDiq9PA\n",
      "https://d.tiles.mapbox.com/v4/mapbox.satellite/19/386688/220239@2x.jpg?access_token=pk.eyJ1Ijoib3BlbnN0cmVldG1hcCIsImEiOiJjbTAzeXd4aTQwMThrMmlzYjduN2hqemJ1In0.NQECJJIjiZXR0WcrDiq9PA\n",
      "https://a.tiles.mapbox.com/v4/mapbox.satellite/19/386688/220240@2x.jpg?access_token=pk.eyJ1Ijoib3BlbnN0cmVldG1hcCIsImEiOiJjbTAzeXd4aTQwMThrMmlzYjduN2hqemJ1In0.NQECJJIjiZXR0WcrDiq9PA\n",
      "https://b.tiles.mapbox.com/v4/mapbox.satellite/19/386688/220241@2x.jpg?access_token=pk.eyJ1Ijoib3BlbnN0cmVldG1hcCIsImEiOiJjbTAzeXd4aTQwMThrMmlzYjduN2hqemJ1In0.NQECJJIjiZXR0WcrDiq9PA\n",
      "https://c.tiles.mapbox.com/v4/mapbox.satellite/19/386688/220242@2x.jpg?access_token=pk.eyJ1Ijoib3BlbnN0cmVldG1hcCIsImEiOiJjbTAzeXd4aTQwMThrMmlzYjduN2hqemJ1In0.NQECJJIjiZXR0WcrDiq9PA\n",
      "https://d.tiles.mapbox.com/v4/mapbox.satellite/19/386688/220243@2x.jpg?access_token=pk.eyJ1Ijoib3BlbnN0cmVldG1hcCIsImEiOiJjbTAzeXd4aTQwMThrMmlzYjduN2hqemJ1In0.NQECJJIjiZXR0WcrDiq9PA\n",
      "https://a.tiles.mapbox.com/v4/mapbox.satellite/19/386688/220244@2x.jpg?access_token=pk.eyJ1Ijoib3BlbnN0cmVldG1hcCIsImEiOiJjbTAzeXd4aTQwMThrMmlzYjduN2hqemJ1In0.NQECJJIjiZXR0WcrDiq9PA\n",
      "https://b.tiles.mapbox.com/v4/mapbox.satellite/19/386688/220245@2x.jpg?access_token=pk.eyJ1Ijoib3BlbnN0cmVldG1hcCIsImEiOiJjbTAzeXd4aTQwMThrMmlzYjduN2hqemJ1In0.NQECJJIjiZXR0WcrDiq9PA\n",
      "https://a.tiles.mapbox.com/v4/mapbox.satellite/19/386689/220235@2x.jpg?access_token=pk.eyJ1Ijoib3BlbnN0cmVldG1hcCIsImEiOiJjbTAzeXd4aTQwMThrMmlzYjduN2hqemJ1In0.NQECJJIjiZXR0WcrDiq9PA\n",
      "https://b.tiles.mapbox.com/v4/mapbox.satellite/19/386689/220236@2x.jpg?access_token=pk.eyJ1Ijoib3BlbnN0cmVldG1hcCIsImEiOiJjbTAzeXd4aTQwMThrMmlzYjduN2hqemJ1In0.NQECJJIjiZXR0WcrDiq9PA\n",
      "https://c.tiles.mapbox.com/v4/mapbox.satellite/19/386689/220237@2x.jpg?access_token=pk.eyJ1Ijoib3BlbnN0cmVldG1hcCIsImEiOiJjbTAzeXd4aTQwMThrMmlzYjduN2hqemJ1In0.NQECJJIjiZXR0WcrDiq9PA\n",
      "https://d.tiles.mapbox.com/v4/mapbox.satellite/19/386689/220238@2x.jpg?access_token=pk.eyJ1Ijoib3BlbnN0cmVldG1hcCIsImEiOiJjbTAzeXd4aTQwMThrMmlzYjduN2hqemJ1In0.NQECJJIjiZXR0WcrDiq9PA\n",
      "https://a.tiles.mapbox.com/v4/mapbox.satellite/19/386689/220239@2x.jpg?access_token=pk.eyJ1Ijoib3BlbnN0cmVldG1hcCIsImEiOiJjbTAzeXd4aTQwMThrMmlzYjduN2hqemJ1In0.NQECJJIjiZXR0WcrDiq9PA\n",
      "https://b.tiles.mapbox.com/v4/mapbox.satellite/19/386689/220240@2x.jpg?access_token=pk.eyJ1Ijoib3BlbnN0cmVldG1hcCIsImEiOiJjbTAzeXd4aTQwMThrMmlzYjduN2hqemJ1In0.NQECJJIjiZXR0WcrDiq9PA\n",
      "https://c.tiles.mapbox.com/v4/mapbox.satellite/19/386689/220241@2x.jpg?access_token=pk.eyJ1Ijoib3BlbnN0cmVldG1hcCIsImEiOiJjbTAzeXd4aTQwMThrMmlzYjduN2hqemJ1In0.NQECJJIjiZXR0WcrDiq9PA\n",
      "https://d.tiles.mapbox.com/v4/mapbox.satellite/19/386689/220242@2x.jpg?access_token=pk.eyJ1Ijoib3BlbnN0cmVldG1hcCIsImEiOiJjbTAzeXd4aTQwMThrMmlzYjduN2hqemJ1In0.NQECJJIjiZXR0WcrDiq9PA\n",
      "https://a.tiles.mapbox.com/v4/mapbox.satellite/19/386689/220243@2x.jpg?access_token=pk.eyJ1Ijoib3BlbnN0cmVldG1hcCIsImEiOiJjbTAzeXd4aTQwMThrMmlzYjduN2hqemJ1In0.NQECJJIjiZXR0WcrDiq9PA\n",
      "https://b.tiles.mapbox.com/v4/mapbox.satellite/19/386689/220244@2x.jpg?access_token=pk.eyJ1Ijoib3BlbnN0cmVldG1hcCIsImEiOiJjbTAzeXd4aTQwMThrMmlzYjduN2hqemJ1In0.NQECJJIjiZXR0WcrDiq9PA\n",
      "https://c.tiles.mapbox.com/v4/mapbox.satellite/19/386689/220245@2x.jpg?access_token=pk.eyJ1Ijoib3BlbnN0cmVldG1hcCIsImEiOiJjbTAzeXd4aTQwMThrMmlzYjduN2hqemJ1In0.NQECJJIjiZXR0WcrDiq9PA\n",
      "https://b.tiles.mapbox.com/v4/mapbox.satellite/19/386690/220235@2x.jpg?access_token=pk.eyJ1Ijoib3BlbnN0cmVldG1hcCIsImEiOiJjbTAzeXd4aTQwMThrMmlzYjduN2hqemJ1In0.NQECJJIjiZXR0WcrDiq9PA\n",
      "https://c.tiles.mapbox.com/v4/mapbox.satellite/19/386690/220236@2x.jpg?access_token=pk.eyJ1Ijoib3BlbnN0cmVldG1hcCIsImEiOiJjbTAzeXd4aTQwMThrMmlzYjduN2hqemJ1In0.NQECJJIjiZXR0WcrDiq9PA\n",
      "https://d.tiles.mapbox.com/v4/mapbox.satellite/19/386690/220237@2x.jpg?access_token=pk.eyJ1Ijoib3BlbnN0cmVldG1hcCIsImEiOiJjbTAzeXd4aTQwMThrMmlzYjduN2hqemJ1In0.NQECJJIjiZXR0WcrDiq9PA\n",
      "https://a.tiles.mapbox.com/v4/mapbox.satellite/19/386690/220238@2x.jpg?access_token=pk.eyJ1Ijoib3BlbnN0cmVldG1hcCIsImEiOiJjbTAzeXd4aTQwMThrMmlzYjduN2hqemJ1In0.NQECJJIjiZXR0WcrDiq9PA\n",
      "https://b.tiles.mapbox.com/v4/mapbox.satellite/19/386690/220239@2x.jpg?access_token=pk.eyJ1Ijoib3BlbnN0cmVldG1hcCIsImEiOiJjbTAzeXd4aTQwMThrMmlzYjduN2hqemJ1In0.NQECJJIjiZXR0WcrDiq9PA\n",
      "https://c.tiles.mapbox.com/v4/mapbox.satellite/19/386690/220240@2x.jpg?access_token=pk.eyJ1Ijoib3BlbnN0cmVldG1hcCIsImEiOiJjbTAzeXd4aTQwMThrMmlzYjduN2hqemJ1In0.NQECJJIjiZXR0WcrDiq9PA\n",
      "https://d.tiles.mapbox.com/v4/mapbox.satellite/19/386690/220241@2x.jpg?access_token=pk.eyJ1Ijoib3BlbnN0cmVldG1hcCIsImEiOiJjbTAzeXd4aTQwMThrMmlzYjduN2hqemJ1In0.NQECJJIjiZXR0WcrDiq9PA\n",
      "https://a.tiles.mapbox.com/v4/mapbox.satellite/19/386690/220242@2x.jpg?access_token=pk.eyJ1Ijoib3BlbnN0cmVldG1hcCIsImEiOiJjbTAzeXd4aTQwMThrMmlzYjduN2hqemJ1In0.NQECJJIjiZXR0WcrDiq9PA\n",
      "https://b.tiles.mapbox.com/v4/mapbox.satellite/19/386690/220243@2x.jpg?access_token=pk.eyJ1Ijoib3BlbnN0cmVldG1hcCIsImEiOiJjbTAzeXd4aTQwMThrMmlzYjduN2hqemJ1In0.NQECJJIjiZXR0WcrDiq9PA\n",
      "https://c.tiles.mapbox.com/v4/mapbox.satellite/19/386690/220244@2x.jpg?access_token=pk.eyJ1Ijoib3BlbnN0cmVldG1hcCIsImEiOiJjbTAzeXd4aTQwMThrMmlzYjduN2hqemJ1In0.NQECJJIjiZXR0WcrDiq9PA\n",
      "https://d.tiles.mapbox.com/v4/mapbox.satellite/19/386690/220245@2x.jpg?access_token=pk.eyJ1Ijoib3BlbnN0cmVldG1hcCIsImEiOiJjbTAzeXd4aTQwMThrMmlzYjduN2hqemJ1In0.NQECJJIjiZXR0WcrDiq9PA\n",
      "https://c.tiles.mapbox.com/v4/mapbox.satellite/19/386691/220235@2x.jpg?access_token=pk.eyJ1Ijoib3BlbnN0cmVldG1hcCIsImEiOiJjbTAzeXd4aTQwMThrMmlzYjduN2hqemJ1In0.NQECJJIjiZXR0WcrDiq9PA\n",
      "https://d.tiles.mapbox.com/v4/mapbox.satellite/19/386691/220236@2x.jpg?access_token=pk.eyJ1Ijoib3BlbnN0cmVldG1hcCIsImEiOiJjbTAzeXd4aTQwMThrMmlzYjduN2hqemJ1In0.NQECJJIjiZXR0WcrDiq9PA\n",
      "https://a.tiles.mapbox.com/v4/mapbox.satellite/19/386691/220237@2x.jpg?access_token=pk.eyJ1Ijoib3BlbnN0cmVldG1hcCIsImEiOiJjbTAzeXd4aTQwMThrMmlzYjduN2hqemJ1In0.NQECJJIjiZXR0WcrDiq9PA\n",
      "https://b.tiles.mapbox.com/v4/mapbox.satellite/19/386691/220238@2x.jpg?access_token=pk.eyJ1Ijoib3BlbnN0cmVldG1hcCIsImEiOiJjbTAzeXd4aTQwMThrMmlzYjduN2hqemJ1In0.NQECJJIjiZXR0WcrDiq9PA\n",
      "https://c.tiles.mapbox.com/v4/mapbox.satellite/19/386691/220239@2x.jpg?access_token=pk.eyJ1Ijoib3BlbnN0cmVldG1hcCIsImEiOiJjbTAzeXd4aTQwMThrMmlzYjduN2hqemJ1In0.NQECJJIjiZXR0WcrDiq9PA\n",
      "https://d.tiles.mapbox.com/v4/mapbox.satellite/19/386691/220240@2x.jpg?access_token=pk.eyJ1Ijoib3BlbnN0cmVldG1hcCIsImEiOiJjbTAzeXd4aTQwMThrMmlzYjduN2hqemJ1In0.NQECJJIjiZXR0WcrDiq9PA\n",
      "https://a.tiles.mapbox.com/v4/mapbox.satellite/19/386691/220241@2x.jpg?access_token=pk.eyJ1Ijoib3BlbnN0cmVldG1hcCIsImEiOiJjbTAzeXd4aTQwMThrMmlzYjduN2hqemJ1In0.NQECJJIjiZXR0WcrDiq9PA\n",
      "https://b.tiles.mapbox.com/v4/mapbox.satellite/19/386691/220242@2x.jpg?access_token=pk.eyJ1Ijoib3BlbnN0cmVldG1hcCIsImEiOiJjbTAzeXd4aTQwMThrMmlzYjduN2hqemJ1In0.NQECJJIjiZXR0WcrDiq9PA\n",
      "https://c.tiles.mapbox.com/v4/mapbox.satellite/19/386691/220243@2x.jpg?access_token=pk.eyJ1Ijoib3BlbnN0cmVldG1hcCIsImEiOiJjbTAzeXd4aTQwMThrMmlzYjduN2hqemJ1In0.NQECJJIjiZXR0WcrDiq9PA\n",
      "https://d.tiles.mapbox.com/v4/mapbox.satellite/19/386691/220244@2x.jpg?access_token=pk.eyJ1Ijoib3BlbnN0cmVldG1hcCIsImEiOiJjbTAzeXd4aTQwMThrMmlzYjduN2hqemJ1In0.NQECJJIjiZXR0WcrDiq9PA\n",
      "https://a.tiles.mapbox.com/v4/mapbox.satellite/19/386691/220245@2x.jpg?access_token=pk.eyJ1Ijoib3BlbnN0cmVldG1hcCIsImEiOiJjbTAzeXd4aTQwMThrMmlzYjduN2hqemJ1In0.NQECJJIjiZXR0WcrDiq9PA\n",
      "https://d.tiles.mapbox.com/v4/mapbox.satellite/19/386692/220235@2x.jpg?access_token=pk.eyJ1Ijoib3BlbnN0cmVldG1hcCIsImEiOiJjbTAzeXd4aTQwMThrMmlzYjduN2hqemJ1In0.NQECJJIjiZXR0WcrDiq9PA\n",
      "https://a.tiles.mapbox.com/v4/mapbox.satellite/19/386692/220236@2x.jpg?access_token=pk.eyJ1Ijoib3BlbnN0cmVldG1hcCIsImEiOiJjbTAzeXd4aTQwMThrMmlzYjduN2hqemJ1In0.NQECJJIjiZXR0WcrDiq9PA\n",
      "https://b.tiles.mapbox.com/v4/mapbox.satellite/19/386692/220237@2x.jpg?access_token=pk.eyJ1Ijoib3BlbnN0cmVldG1hcCIsImEiOiJjbTAzeXd4aTQwMThrMmlzYjduN2hqemJ1In0.NQECJJIjiZXR0WcrDiq9PA\n",
      "https://c.tiles.mapbox.com/v4/mapbox.satellite/19/386692/220238@2x.jpg?access_token=pk.eyJ1Ijoib3BlbnN0cmVldG1hcCIsImEiOiJjbTAzeXd4aTQwMThrMmlzYjduN2hqemJ1In0.NQECJJIjiZXR0WcrDiq9PA\n",
      "https://d.tiles.mapbox.com/v4/mapbox.satellite/19/386692/220239@2x.jpg?access_token=pk.eyJ1Ijoib3BlbnN0cmVldG1hcCIsImEiOiJjbTAzeXd4aTQwMThrMmlzYjduN2hqemJ1In0.NQECJJIjiZXR0WcrDiq9PA\n",
      "https://a.tiles.mapbox.com/v4/mapbox.satellite/19/386692/220240@2x.jpg?access_token=pk.eyJ1Ijoib3BlbnN0cmVldG1hcCIsImEiOiJjbTAzeXd4aTQwMThrMmlzYjduN2hqemJ1In0.NQECJJIjiZXR0WcrDiq9PA\n",
      "https://b.tiles.mapbox.com/v4/mapbox.satellite/19/386692/220241@2x.jpg?access_token=pk.eyJ1Ijoib3BlbnN0cmVldG1hcCIsImEiOiJjbTAzeXd4aTQwMThrMmlzYjduN2hqemJ1In0.NQECJJIjiZXR0WcrDiq9PA\n",
      "https://c.tiles.mapbox.com/v4/mapbox.satellite/19/386692/220242@2x.jpg?access_token=pk.eyJ1Ijoib3BlbnN0cmVldG1hcCIsImEiOiJjbTAzeXd4aTQwMThrMmlzYjduN2hqemJ1In0.NQECJJIjiZXR0WcrDiq9PA\n",
      "https://d.tiles.mapbox.com/v4/mapbox.satellite/19/386692/220243@2x.jpg?access_token=pk.eyJ1Ijoib3BlbnN0cmVldG1hcCIsImEiOiJjbTAzeXd4aTQwMThrMmlzYjduN2hqemJ1In0.NQECJJIjiZXR0WcrDiq9PA\n",
      "https://a.tiles.mapbox.com/v4/mapbox.satellite/19/386692/220244@2x.jpg?access_token=pk.eyJ1Ijoib3BlbnN0cmVldG1hcCIsImEiOiJjbTAzeXd4aTQwMThrMmlzYjduN2hqemJ1In0.NQECJJIjiZXR0WcrDiq9PA\n",
      "https://b.tiles.mapbox.com/v4/mapbox.satellite/19/386692/220245@2x.jpg?access_token=pk.eyJ1Ijoib3BlbnN0cmVldG1hcCIsImEiOiJjbTAzeXd4aTQwMThrMmlzYjduN2hqemJ1In0.NQECJJIjiZXR0WcrDiq9PA\n",
      "https://a.tiles.mapbox.com/v4/mapbox.satellite/19/386693/220235@2x.jpg?access_token=pk.eyJ1Ijoib3BlbnN0cmVldG1hcCIsImEiOiJjbTAzeXd4aTQwMThrMmlzYjduN2hqemJ1In0.NQECJJIjiZXR0WcrDiq9PA\n",
      "https://b.tiles.mapbox.com/v4/mapbox.satellite/19/386693/220236@2x.jpg?access_token=pk.eyJ1Ijoib3BlbnN0cmVldG1hcCIsImEiOiJjbTAzeXd4aTQwMThrMmlzYjduN2hqemJ1In0.NQECJJIjiZXR0WcrDiq9PA\n",
      "https://c.tiles.mapbox.com/v4/mapbox.satellite/19/386693/220237@2x.jpg?access_token=pk.eyJ1Ijoib3BlbnN0cmVldG1hcCIsImEiOiJjbTAzeXd4aTQwMThrMmlzYjduN2hqemJ1In0.NQECJJIjiZXR0WcrDiq9PA\n",
      "https://d.tiles.mapbox.com/v4/mapbox.satellite/19/386693/220238@2x.jpg?access_token=pk.eyJ1Ijoib3BlbnN0cmVldG1hcCIsImEiOiJjbTAzeXd4aTQwMThrMmlzYjduN2hqemJ1In0.NQECJJIjiZXR0WcrDiq9PA\n",
      "https://a.tiles.mapbox.com/v4/mapbox.satellite/19/386693/220239@2x.jpg?access_token=pk.eyJ1Ijoib3BlbnN0cmVldG1hcCIsImEiOiJjbTAzeXd4aTQwMThrMmlzYjduN2hqemJ1In0.NQECJJIjiZXR0WcrDiq9PA\n",
      "https://b.tiles.mapbox.com/v4/mapbox.satellite/19/386693/220240@2x.jpg?access_token=pk.eyJ1Ijoib3BlbnN0cmVldG1hcCIsImEiOiJjbTAzeXd4aTQwMThrMmlzYjduN2hqemJ1In0.NQECJJIjiZXR0WcrDiq9PA\n",
      "https://c.tiles.mapbox.com/v4/mapbox.satellite/19/386693/220241@2x.jpg?access_token=pk.eyJ1Ijoib3BlbnN0cmVldG1hcCIsImEiOiJjbTAzeXd4aTQwMThrMmlzYjduN2hqemJ1In0.NQECJJIjiZXR0WcrDiq9PA\n",
      "https://d.tiles.mapbox.com/v4/mapbox.satellite/19/386693/220242@2x.jpg?access_token=pk.eyJ1Ijoib3BlbnN0cmVldG1hcCIsImEiOiJjbTAzeXd4aTQwMThrMmlzYjduN2hqemJ1In0.NQECJJIjiZXR0WcrDiq9PA\n",
      "https://a.tiles.mapbox.com/v4/mapbox.satellite/19/386693/220243@2x.jpg?access_token=pk.eyJ1Ijoib3BlbnN0cmVldG1hcCIsImEiOiJjbTAzeXd4aTQwMThrMmlzYjduN2hqemJ1In0.NQECJJIjiZXR0WcrDiq9PA\n",
      "https://b.tiles.mapbox.com/v4/mapbox.satellite/19/386693/220244@2x.jpg?access_token=pk.eyJ1Ijoib3BlbnN0cmVldG1hcCIsImEiOiJjbTAzeXd4aTQwMThrMmlzYjduN2hqemJ1In0.NQECJJIjiZXR0WcrDiq9PA\n",
      "https://c.tiles.mapbox.com/v4/mapbox.satellite/19/386693/220245@2x.jpg?access_token=pk.eyJ1Ijoib3BlbnN0cmVldG1hcCIsImEiOiJjbTAzeXd4aTQwMThrMmlzYjduN2hqemJ1In0.NQECJJIjiZXR0WcrDiq9PA\n",
      "https://b.tiles.mapbox.com/v4/mapbox.satellite/19/386694/220235@2x.jpg?access_token=pk.eyJ1Ijoib3BlbnN0cmVldG1hcCIsImEiOiJjbTAzeXd4aTQwMThrMmlzYjduN2hqemJ1In0.NQECJJIjiZXR0WcrDiq9PA\n",
      "https://c.tiles.mapbox.com/v4/mapbox.satellite/19/386694/220236@2x.jpg?access_token=pk.eyJ1Ijoib3BlbnN0cmVldG1hcCIsImEiOiJjbTAzeXd4aTQwMThrMmlzYjduN2hqemJ1In0.NQECJJIjiZXR0WcrDiq9PA\n",
      "https://d.tiles.mapbox.com/v4/mapbox.satellite/19/386694/220237@2x.jpg?access_token=pk.eyJ1Ijoib3BlbnN0cmVldG1hcCIsImEiOiJjbTAzeXd4aTQwMThrMmlzYjduN2hqemJ1In0.NQECJJIjiZXR0WcrDiq9PA\n",
      "https://a.tiles.mapbox.com/v4/mapbox.satellite/19/386694/220238@2x.jpg?access_token=pk.eyJ1Ijoib3BlbnN0cmVldG1hcCIsImEiOiJjbTAzeXd4aTQwMThrMmlzYjduN2hqemJ1In0.NQECJJIjiZXR0WcrDiq9PA\n",
      "https://b.tiles.mapbox.com/v4/mapbox.satellite/19/386694/220239@2x.jpg?access_token=pk.eyJ1Ijoib3BlbnN0cmVldG1hcCIsImEiOiJjbTAzeXd4aTQwMThrMmlzYjduN2hqemJ1In0.NQECJJIjiZXR0WcrDiq9PA\n",
      "https://c.tiles.mapbox.com/v4/mapbox.satellite/19/386694/220240@2x.jpg?access_token=pk.eyJ1Ijoib3BlbnN0cmVldG1hcCIsImEiOiJjbTAzeXd4aTQwMThrMmlzYjduN2hqemJ1In0.NQECJJIjiZXR0WcrDiq9PA\n",
      "https://d.tiles.mapbox.com/v4/mapbox.satellite/19/386694/220241@2x.jpg?access_token=pk.eyJ1Ijoib3BlbnN0cmVldG1hcCIsImEiOiJjbTAzeXd4aTQwMThrMmlzYjduN2hqemJ1In0.NQECJJIjiZXR0WcrDiq9PA\n",
      "https://a.tiles.mapbox.com/v4/mapbox.satellite/19/386694/220242@2x.jpg?access_token=pk.eyJ1Ijoib3BlbnN0cmVldG1hcCIsImEiOiJjbTAzeXd4aTQwMThrMmlzYjduN2hqemJ1In0.NQECJJIjiZXR0WcrDiq9PA\n",
      "https://b.tiles.mapbox.com/v4/mapbox.satellite/19/386694/220243@2x.jpg?access_token=pk.eyJ1Ijoib3BlbnN0cmVldG1hcCIsImEiOiJjbTAzeXd4aTQwMThrMmlzYjduN2hqemJ1In0.NQECJJIjiZXR0WcrDiq9PA\n",
      "https://c.tiles.mapbox.com/v4/mapbox.satellite/19/386694/220244@2x.jpg?access_token=pk.eyJ1Ijoib3BlbnN0cmVldG1hcCIsImEiOiJjbTAzeXd4aTQwMThrMmlzYjduN2hqemJ1In0.NQECJJIjiZXR0WcrDiq9PA\n",
      "https://d.tiles.mapbox.com/v4/mapbox.satellite/19/386694/220245@2x.jpg?access_token=pk.eyJ1Ijoib3BlbnN0cmVldG1hcCIsImEiOiJjbTAzeXd4aTQwMThrMmlzYjduN2hqemJ1In0.NQECJJIjiZXR0WcrDiq9PA\n",
      "https://c.tiles.mapbox.com/v4/mapbox.satellite/19/386695/220235@2x.jpg?access_token=pk.eyJ1Ijoib3BlbnN0cmVldG1hcCIsImEiOiJjbTAzeXd4aTQwMThrMmlzYjduN2hqemJ1In0.NQECJJIjiZXR0WcrDiq9PA\n",
      "https://d.tiles.mapbox.com/v4/mapbox.satellite/19/386695/220236@2x.jpg?access_token=pk.eyJ1Ijoib3BlbnN0cmVldG1hcCIsImEiOiJjbTAzeXd4aTQwMThrMmlzYjduN2hqemJ1In0.NQECJJIjiZXR0WcrDiq9PA\n",
      "https://a.tiles.mapbox.com/v4/mapbox.satellite/19/386695/220237@2x.jpg?access_token=pk.eyJ1Ijoib3BlbnN0cmVldG1hcCIsImEiOiJjbTAzeXd4aTQwMThrMmlzYjduN2hqemJ1In0.NQECJJIjiZXR0WcrDiq9PA\n",
      "https://b.tiles.mapbox.com/v4/mapbox.satellite/19/386695/220238@2x.jpg?access_token=pk.eyJ1Ijoib3BlbnN0cmVldG1hcCIsImEiOiJjbTAzeXd4aTQwMThrMmlzYjduN2hqemJ1In0.NQECJJIjiZXR0WcrDiq9PA\n",
      "https://c.tiles.mapbox.com/v4/mapbox.satellite/19/386695/220239@2x.jpg?access_token=pk.eyJ1Ijoib3BlbnN0cmVldG1hcCIsImEiOiJjbTAzeXd4aTQwMThrMmlzYjduN2hqemJ1In0.NQECJJIjiZXR0WcrDiq9PA\n",
      "https://d.tiles.mapbox.com/v4/mapbox.satellite/19/386695/220240@2x.jpg?access_token=pk.eyJ1Ijoib3BlbnN0cmVldG1hcCIsImEiOiJjbTAzeXd4aTQwMThrMmlzYjduN2hqemJ1In0.NQECJJIjiZXR0WcrDiq9PA\n",
      "https://a.tiles.mapbox.com/v4/mapbox.satellite/19/386695/220241@2x.jpg?access_token=pk.eyJ1Ijoib3BlbnN0cmVldG1hcCIsImEiOiJjbTAzeXd4aTQwMThrMmlzYjduN2hqemJ1In0.NQECJJIjiZXR0WcrDiq9PA\n",
      "https://b.tiles.mapbox.com/v4/mapbox.satellite/19/386695/220242@2x.jpg?access_token=pk.eyJ1Ijoib3BlbnN0cmVldG1hcCIsImEiOiJjbTAzeXd4aTQwMThrMmlzYjduN2hqemJ1In0.NQECJJIjiZXR0WcrDiq9PA\n",
      "https://c.tiles.mapbox.com/v4/mapbox.satellite/19/386695/220243@2x.jpg?access_token=pk.eyJ1Ijoib3BlbnN0cmVldG1hcCIsImEiOiJjbTAzeXd4aTQwMThrMmlzYjduN2hqemJ1In0.NQECJJIjiZXR0WcrDiq9PA\n",
      "https://d.tiles.mapbox.com/v4/mapbox.satellite/19/386695/220244@2x.jpg?access_token=pk.eyJ1Ijoib3BlbnN0cmVldG1hcCIsImEiOiJjbTAzeXd4aTQwMThrMmlzYjduN2hqemJ1In0.NQECJJIjiZXR0WcrDiq9PA\n",
      "https://a.tiles.mapbox.com/v4/mapbox.satellite/19/386695/220245@2x.jpg?access_token=pk.eyJ1Ijoib3BlbnN0cmVldG1hcCIsImEiOiJjbTAzeXd4aTQwMThrMmlzYjduN2hqemJ1In0.NQECJJIjiZXR0WcrDiq9PA\n",
      "https://d.tiles.mapbox.com/v4/mapbox.satellite/19/386696/220235@2x.jpg?access_token=pk.eyJ1Ijoib3BlbnN0cmVldG1hcCIsImEiOiJjbTAzeXd4aTQwMThrMmlzYjduN2hqemJ1In0.NQECJJIjiZXR0WcrDiq9PA\n",
      "https://a.tiles.mapbox.com/v4/mapbox.satellite/19/386696/220236@2x.jpg?access_token=pk.eyJ1Ijoib3BlbnN0cmVldG1hcCIsImEiOiJjbTAzeXd4aTQwMThrMmlzYjduN2hqemJ1In0.NQECJJIjiZXR0WcrDiq9PA\n",
      "https://b.tiles.mapbox.com/v4/mapbox.satellite/19/386696/220237@2x.jpg?access_token=pk.eyJ1Ijoib3BlbnN0cmVldG1hcCIsImEiOiJjbTAzeXd4aTQwMThrMmlzYjduN2hqemJ1In0.NQECJJIjiZXR0WcrDiq9PA\n",
      "https://c.tiles.mapbox.com/v4/mapbox.satellite/19/386696/220238@2x.jpg?access_token=pk.eyJ1Ijoib3BlbnN0cmVldG1hcCIsImEiOiJjbTAzeXd4aTQwMThrMmlzYjduN2hqemJ1In0.NQECJJIjiZXR0WcrDiq9PA\n",
      "https://d.tiles.mapbox.com/v4/mapbox.satellite/19/386696/220239@2x.jpg?access_token=pk.eyJ1Ijoib3BlbnN0cmVldG1hcCIsImEiOiJjbTAzeXd4aTQwMThrMmlzYjduN2hqemJ1In0.NQECJJIjiZXR0WcrDiq9PA\n",
      "https://a.tiles.mapbox.com/v4/mapbox.satellite/19/386696/220240@2x.jpg?access_token=pk.eyJ1Ijoib3BlbnN0cmVldG1hcCIsImEiOiJjbTAzeXd4aTQwMThrMmlzYjduN2hqemJ1In0.NQECJJIjiZXR0WcrDiq9PA\n",
      "https://b.tiles.mapbox.com/v4/mapbox.satellite/19/386696/220241@2x.jpg?access_token=pk.eyJ1Ijoib3BlbnN0cmVldG1hcCIsImEiOiJjbTAzeXd4aTQwMThrMmlzYjduN2hqemJ1In0.NQECJJIjiZXR0WcrDiq9PA\n",
      "https://c.tiles.mapbox.com/v4/mapbox.satellite/19/386696/220242@2x.jpg?access_token=pk.eyJ1Ijoib3BlbnN0cmVldG1hcCIsImEiOiJjbTAzeXd4aTQwMThrMmlzYjduN2hqemJ1In0.NQECJJIjiZXR0WcrDiq9PA\n",
      "https://d.tiles.mapbox.com/v4/mapbox.satellite/19/386696/220243@2x.jpg?access_token=pk.eyJ1Ijoib3BlbnN0cmVldG1hcCIsImEiOiJjbTAzeXd4aTQwMThrMmlzYjduN2hqemJ1In0.NQECJJIjiZXR0WcrDiq9PA\n",
      "https://a.tiles.mapbox.com/v4/mapbox.satellite/19/386696/220244@2x.jpg?access_token=pk.eyJ1Ijoib3BlbnN0cmVldG1hcCIsImEiOiJjbTAzeXd4aTQwMThrMmlzYjduN2hqemJ1In0.NQECJJIjiZXR0WcrDiq9PA\n",
      "https://b.tiles.mapbox.com/v4/mapbox.satellite/19/386696/220245@2x.jpg?access_token=pk.eyJ1Ijoib3BlbnN0cmVldG1hcCIsImEiOiJjbTAzeXd4aTQwMThrMmlzYjduN2hqemJ1In0.NQECJJIjiZXR0WcrDiq9PA\n",
      "Error fetching tile Tile(x=386692, y=220236, z=19): 403\n",
      "Error fetching tile Tile(x=386692, y=220240, z=19): 403\n",
      "Error fetching tile Tile(x=386687, y=220237, z=19): 403\n",
      "Error fetching tile Tile(x=386693, y=220239, z=19): 403\n",
      "Error fetching tile Tile(x=386693, y=220243, z=19): 403\n",
      "Error fetching tile Tile(x=386694, y=220244, z=19): 403\n",
      "Error fetching tile Tile(x=386688, y=220244, z=19): 403\n",
      "Error fetching tile Tile(x=386690, y=220238, z=19): 403\n",
      "Error fetching tile Tile(x=386689, y=220235, z=19): 403\n",
      "Error fetching tile Tile(x=386691, y=220241, z=19): 403\n",
      "Error fetching tile Tile(x=386694, y=220242, z=19): 403\n",
      "Error fetching tile Tile(x=386690, y=220242, z=19): 403\n",
      "Error fetching tile Tile(x=386694, y=220238, z=19): 403\n",
      "Error fetching tile Tile(x=386686, y=220242, z=19): 403\n",
      "Error fetching tile Tile(x=386688, y=220236, z=19): 403\n",
      "Error fetching tile Tile(x=386687, y=220241, z=19): 403\n",
      "Error fetching tile Tile(x=386688, y=220240, z=19): 403\n",
      "Error fetching tile Tile(x=386693, y=220235, z=19): 403\n",
      "Error fetching tile Tile(x=386689, y=220241, z=19): 403\n",
      "Error fetching tile Tile(x=386690, y=220244, z=19): 403\n",
      "Error fetching tile Tile(x=386687, y=220243, z=19): 403\n",
      "Error fetching tile Tile(x=386690, y=220236, z=19): 403\n",
      "Error fetching tile Tile(x=386690, y=220240, z=19): 403\n",
      "Error fetching tile Tile(x=386686, y=220238, z=19): 403\n",
      "Error fetching tile Tile(x=386694, y=220243, z=19): 403\n",
      "Error fetching tile Tile(x=386692, y=220244, z=19): 403\n",
      "Error fetching tile Tile(x=386694, y=220237, z=19): 403\n",
      "Error fetching tile Tile(x=386687, y=220236, z=19): 403\n",
      "Error fetching tile Tile(x=386692, y=220241, z=19): 403\n",
      "Error fetching tile Tile(x=386688, y=220238, z=19): 403\n",
      "Error fetching tile Tile(x=386692, y=220242, z=19): 403\n",
      "Error fetching tile Tile(x=386686, y=220241, z=19): 403\n",
      "Error fetching tile Tile(x=386686, y=220245, z=19): 403\n",
      "Error fetching tile Tile(x=386693, y=220240, z=19): 403\n",
      "Error fetching tile Tile(x=386689, y=220240, z=19): 403\n",
      "Error fetching tile Tile(x=386691, y=220239, z=19): 403\n",
      "Error fetching tile Tile(x=386695, y=220235, z=19): 403\n",
      "Error fetching tile Tile(x=386690, y=220243, z=19): 403\n",
      "Error fetching tile Tile(x=386688, y=220239, z=19): 403\n",
      "Error fetching tile Tile(x=386688, y=220235, z=19): 403\n",
      "Error fetching tile Tile(x=386690, y=220245, z=19): 403\n",
      "Error fetching tile Tile(x=386691, y=220237, z=19): 403\n",
      "Error fetching tile Tile(x=386689, y=220245, z=19): 403\n",
      "Error fetching tile Tile(x=386693, y=220242, z=19): 403\n",
      "Error fetching tile Tile(x=386694, y=220240, z=19): 403\n",
      "Error fetching tile Tile(x=386692, y=220239, z=19): 403\n",
      "Error fetching tile Tile(x=386688, y=220245, z=19): 403\n",
      "Error fetching tile Tile(x=386688, y=220243, z=19): 403\n",
      "Error fetching tile Tile(x=386692, y=220235, z=19): 403\n",
      "Error fetching tile Tile(x=386689, y=220237, z=19): 403\n",
      "Error fetching tile Tile(x=386693, y=220241, z=19): 403\n",
      "Error fetching tile Tile(x=386692, y=220238, z=19): 403\n",
      "Error fetching tile Tile(x=386694, y=220236, z=19): 403\n",
      "Error fetching tile Tile(x=386692, y=220243, z=19): 403\n",
      "Error fetching tile Tile(x=386687, y=220240, z=19): 403\n",
      "Error fetching tile Tile(x=386686, y=220244, z=19): 403\n",
      "Error fetching tile Tile(x=386686, y=220237, z=19): 403\n",
      "Error fetching tile Tile(x=386691, y=220245, z=19): 403\n",
      "Error fetching tile Tile(x=386688, y=220242, z=19): 403\n",
      "Error fetching tile Tile(x=386693, y=220244, z=19): 403\n",
      "Error fetching tile Tile(x=386689, y=220239, z=19): 403\n",
      "Error fetching tile Tile(x=386693, y=220237, z=19): 403\n",
      "Error fetching tile Tile(x=386693, y=220245, z=19): 403\n",
      "Error fetching tile Tile(x=386694, y=220235, z=19): 403\n",
      "Error fetching tile Tile(x=386690, y=220235, z=19): 403\n",
      "Error fetching tile Tile(x=386686, y=220240, z=19): 403\n",
      "Error fetching tile Tile(x=386695, y=220245, z=19): 403\n",
      "Error fetching tile Tile(x=386695, y=220243, z=19): 403\n",
      "Error fetching tile Tile(x=386696, y=220240, z=19): 403\n",
      "Error fetching tile Tile(x=386696, y=220244, z=19): 403\n",
      "Error fetching tile Tile(x=386692, y=220237, z=19): 403\n",
      "Error fetching tile Tile(x=386690, y=220241, z=19): 403\n",
      "Error fetching tile Tile(x=386694, y=220241, z=19): 403\n"
     ]
    },
    {
     "name": "stderr",
     "output_type": "stream",
     "text": [
      "100%|██████████| 121/121 [00:00<00:00, 458.09tile/s]"
     ]
    },
    {
     "name": "stdout",
     "output_type": "stream",
     "text": [
      "Error fetching tile Tile(x=386695, y=220238, z=19): 403\n",
      "Error fetching tile Tile(x=386695, y=220236, z=19): 403\n",
      "Error fetching tile Tile(x=386696, y=220241, z=19): 403\n",
      "Error fetching tile Tile(x=386687, y=220235, z=19): 403\n",
      "Error fetching tile Tile(x=386687, y=220239, z=19): 403\n",
      "Error fetching tile Tile(x=386686, y=220239, z=19): 403\n",
      "Error fetching tile Tile(x=386696, y=220238, z=19): 403\n",
      "Error fetching tile Tile(x=386689, y=220238, z=19): 403\n",
      "Error fetching tile Tile(x=386687, y=220244, z=19): 403\n",
      "Error fetching tile Tile(x=386695, y=220239, z=19): 403\n",
      "Error fetching tile Tile(x=386690, y=220239, z=19): 403\n",
      "Error fetching tile Tile(x=386687, y=220242, z=19): 403\n",
      "Error fetching tile Tile(x=386693, y=220238, z=19): 403\n",
      "Error fetching tile Tile(x=386691, y=220242, z=19): 403\n",
      "Error fetching tile Tile(x=386695, y=220240, z=19): 403\n",
      "Error fetching tile Tile(x=386691, y=220238, z=19): 403\n",
      "Error fetching tile Tile(x=386696, y=220237, z=19): 403\n",
      "Error fetching tile Tile(x=386686, y=220236, z=19): 403\n",
      "Error fetching tile Tile(x=386691, y=220244, z=19): 403\n",
      "Error fetching tile Tile(x=386693, y=220236, z=19): 403\n",
      "Error fetching tile Tile(x=386689, y=220243, z=19): 403\n",
      "Error fetching tile Tile(x=386689, y=220242, z=19): 403\n",
      "Error fetching tile Tile(x=386690, y=220237, z=19): 403\n",
      "Error fetching tile Tile(x=386686, y=220243, z=19): 403\n",
      "Error fetching tile Tile(x=386695, y=220244, z=19): 403\n",
      "Error fetching tile Tile(x=386689, y=220236, z=19): 403\n",
      "Error fetching tile Tile(x=386694, y=220245, z=19): 403\n",
      "Error fetching tile Tile(x=386696, y=220239, z=19): 403\n",
      "Error fetching tile Tile(x=386687, y=220245, z=19): 403\n",
      "Error fetching tile Tile(x=386696, y=220243, z=19): 403\n",
      "Error fetching tile Tile(x=386695, y=220237, z=19): 403\n",
      "Error fetching tile Tile(x=386691, y=220235, z=19): 403\n",
      "Error fetching tile Tile(x=386687, y=220238, z=19): 403\n",
      "Error fetching tile Tile(x=386694, y=220239, z=19): 403\n",
      "Error fetching tile Tile(x=386691, y=220243, z=19): 403\n",
      "Error fetching tile Tile(x=386692, y=220245, z=19): 403\n",
      "Error fetching tile Tile(x=386689, y=220244, z=19): 403\n",
      "Error fetching tile Tile(x=386688, y=220241, z=19): 403\n",
      "Error fetching tile Tile(x=386695, y=220241, z=19): 403\n",
      "Error fetching tile Tile(x=386695, y=220242, z=19): 403\n",
      "Error fetching tile Tile(x=386686, y=220235, z=19): 403\n",
      "Error fetching tile Tile(x=386696, y=220236, z=19): 403\n",
      "Error fetching tile Tile(x=386688, y=220237, z=19): 403\n",
      "Error fetching tile Tile(x=386696, y=220245, z=19): 403\n",
      "Error fetching tile Tile(x=386691, y=220236, z=19): 403\n",
      "Error fetching tile Tile(x=386696, y=220235, z=19): 403\n",
      "Error fetching tile Tile(x=386691, y=220240, z=19): 403\n",
      "Error fetching tile Tile(x=386696, y=220242, z=19): 403\n"
     ]
    },
    {
     "name": "stderr",
     "output_type": "stream",
     "text": [
      "\n"
     ]
    },
    {
     "data": {
      "text/plain": [
       "'banepa/chips'"
      ]
     },
     "execution_count": 3,
     "metadata": {},
     "output_type": "execute_result"
    }
   ],
   "source": [
    "# Download tiles\n",
    "await TMSDownloader.download_tiles(\n",
    "        tms=TMS, \n",
    "        zoom=ZOOM, \n",
    "        out=WORK_DIR, \n",
    "        bbox=bbox, \n",
    "        georeference=True, \n",
    "        dump_tile_geometries_as_geojson=True,\n",
    "        prefix=\"OAM\"\n",
    "    )\n"
   ]
  },
  {
   "cell_type": "markdown",
   "metadata": {},
   "source": [
    "### Fetch labels \n",
    "\n",
    "Here we are using the same tiles.geojson that was used to fetch tiles , remember your bbox / geojson and tile boundary might be little bit different due to tile size and we want to make sure we have labels for the tile boundary hence input here would be tiles.geojson "
   ]
  },
  {
   "cell_type": "code",
   "execution_count": null,
   "metadata": {},
   "outputs": [
    {
     "name": "stdout",
     "output_type": "stream",
     "text": [
      "OSM Data Last Updated :  2025-01-23 12:58:06+00:00\n",
      "Dumping GeoJSON data to file... banepa/labels/osm-result.geojson\n",
      "Spllited GeoJSON wrt tiles saved to:  banepa/labels/split\n"
     ]
    },
    {
     "data": {
      "text/plain": [
       "'banepa/labels'"
      ]
     },
     "execution_count": 4,
     "metadata": {},
     "output_type": "execute_result"
    }
   ],
   "source": [
    "# Download OSM data for tile boundary\n",
    "tiles_geojson = os.path.join(WORK_DIR, \"tiles.geojson\")\n",
    "await OSMDownloader.download_osm_data(\n",
    "    geojson=tiles_geojson, \n",
    "    out=os.path.join(WORK_DIR, \"labels\"),\n",
    "    dump_results=True,\n",
    "    split_output_by_tiles=True,\n",
    "    split_prefix=\"OAM\"\n",
    ")\n"
   ]
  },
  {
   "cell_type": "markdown",
   "metadata": {},
   "source": [
    "### Regularize Footprints\n",
    "\n",
    "To regularize building footprints, you can use the `VectorizeMasks` class from the `regularizer` module. Here is an example:"
   ]
  },
  {
   "cell_type": "code",
   "execution_count": null,
   "metadata": {},
   "outputs": [],
   "source": [
    "import os\n",
    "from geomltoolkits.regularizer import VectorizeMasks\n",
    "\n",
    "# Define input and output files\n",
    "input_tiff = \"path/to/input.tiff\"\n",
    "output_geojson = \"path/to/output.geojson\"\n",
    "\n",
    "# Create a VectorizeMasks instance\n",
    "converter = VectorizeMasks(\n",
    "    simplify_tolerance=0.2,\n",
    "    min_area=1.0,\n",
    "    orthogonalize=True,\n",
    "    algorithm=\"potrace\",\n",
    "    tmp_dir=os.getcwd()\n",
    ")\n",
    "\n",
    "# Run the conversion\n",
    "converter.convert(input_tiff, output_geojson)\n"
   ]
  }
 ],
 "metadata": {
  "kernelspec": {
   "display_name": "geomltoolkits",
   "language": "python",
   "name": "python3"
  },
  "language_info": {
   "codemirror_mode": {
    "name": "ipython",
    "version": 3
   },
   "file_extension": ".py",
   "mimetype": "text/x-python",
   "name": "python",
   "nbconvert_exporter": "python",
   "pygments_lexer": "ipython3",
   "version": "3.13.2"
  }
 },
 "nbformat": 4,
 "nbformat_minor": 2
}
